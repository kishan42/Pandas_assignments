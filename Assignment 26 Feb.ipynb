{
 "cells": [
  {
   "cell_type": "code",
   "execution_count": 17,
   "id": "4775438c-6c94-4b0d-b20c-1d540387dc95",
   "metadata": {},
   "outputs": [
    {
     "data": {
      "text/plain": [
       "array(['1', '2', '3', '4', '5'], dtype='<U1')"
      ]
     },
     "execution_count": 17,
     "metadata": {},
     "output_type": "execute_result"
    }
   ],
   "source": [
    "import numpy as np\n",
    "list_ = ['1' , '2' , '3' , '4' , '5' ]\n",
    "array_list = np.array(object = list_)\n",
    "array_list"
   ]
  },
  {
   "cell_type": "markdown",
   "id": "0ac6f5bc-63ce-4118-9c36-e37d605cc471",
   "metadata": {},
   "source": [
    "Q1. Is there any difference in the data type of variables list_ and array_list? If there is then write a code\n",
    "to print the data types of both the variables."
   ]
  },
  {
   "cell_type": "markdown",
   "id": "87f0077e-6a7c-4032-bc61-d2ae08c9eb53",
   "metadata": {},
   "source": [
    "Python List:\n",
    "\n",
    "Lists are the inbuilt data structure of python.\n",
    "We can store elements of different types in the list.\n",
    "Items in the list are enclosed between square brackets and separated by commas.\n",
    "We can even nest lists with other data structures like lists, dictionaries, tuples, etc.\n",
    "\n",
    "\n",
    "Python Array:\n",
    "\n",
    "Arrays are not the in-built data structure readily available in Python.\n",
    "We must import the array from the 'array' or 'numpy' module.\n",
    "Array stores elements of similar types. If we try to store elements of different types, it will throw an error.\n",
    "We can only store elements of the same types in the array."
   ]
  },
  {
   "cell_type": "code",
   "execution_count": 18,
   "id": "9a7c4e00-af5b-421e-82d0-bb7b7c205dec",
   "metadata": {},
   "outputs": [
    {
     "name": "stdout",
     "output_type": "stream",
     "text": [
      "<class 'list'>\n"
     ]
    }
   ],
   "source": [
    "print(type(list_))"
   ]
  },
  {
   "cell_type": "code",
   "execution_count": 19,
   "id": "7484a3e7-42ac-44fb-9e15-bb30af734934",
   "metadata": {},
   "outputs": [
    {
     "name": "stdout",
     "output_type": "stream",
     "text": [
      "<class 'numpy.ndarray'>\n"
     ]
    }
   ],
   "source": [
    "print(type(array_list))"
   ]
  },
  {
   "cell_type": "markdown",
   "id": "afa001eb-d3f5-4041-b067-ad05c8af244a",
   "metadata": {},
   "source": [
    "Q2. Write a code to print the data type of each and every element of both the variables list_ and\n",
    "arra_list."
   ]
  },
  {
   "cell_type": "code",
   "execution_count": 20,
   "id": "2b6cb1ca-3985-429c-af59-7797a989b9e4",
   "metadata": {},
   "outputs": [
    {
     "name": "stdout",
     "output_type": "stream",
     "text": [
      "<class 'str'>\n",
      "<class 'str'>\n",
      "<class 'str'>\n",
      "<class 'str'>\n",
      "<class 'str'>\n"
     ]
    }
   ],
   "source": [
    "for i in list_:\n",
    "    print(type(i))"
   ]
  },
  {
   "cell_type": "code",
   "execution_count": 21,
   "id": "79401da4-715d-4ad9-a060-8c3877e9d04e",
   "metadata": {},
   "outputs": [
    {
     "data": {
      "text/plain": [
       "dtype('<U1')"
      ]
     },
     "execution_count": 21,
     "metadata": {},
     "output_type": "execute_result"
    }
   ],
   "source": [
    "array_list.dtype"
   ]
  },
  {
   "cell_type": "markdown",
   "id": "22c179fe-721b-45c8-a6ed-3edf33d188d3",
   "metadata": {},
   "source": [
    "Q3. Considering the following changes in the variable, array_list:\n",
    "\n",
    "array_list = np.array(object = list_, dtype = int)\n",
    "\n",
    "Will there be any difference in the data type of the elements present in both the variables, list_ and\n",
    "arra_list? If so then print the data types of each and every element present in both the variables, list_\n",
    "and arra_list."
   ]
  },
  {
   "cell_type": "code",
   "execution_count": 22,
   "id": "b1a85607-9337-402c-9fcd-2c7538ae79f8",
   "metadata": {},
   "outputs": [],
   "source": [
    "array_list = np.array(object = list_, dtype = int)"
   ]
  },
  {
   "cell_type": "code",
   "execution_count": 23,
   "id": "2a6246f8-ed16-457a-b149-e359af3420d8",
   "metadata": {},
   "outputs": [
    {
     "data": {
      "text/plain": [
       "array([1, 2, 3, 4, 5])"
      ]
     },
     "execution_count": 23,
     "metadata": {},
     "output_type": "execute_result"
    }
   ],
   "source": [
    "array_list"
   ]
  },
  {
   "cell_type": "code",
   "execution_count": 24,
   "id": "ef723059-ccc2-4047-bfe8-0e4ff6a4a1d2",
   "metadata": {},
   "outputs": [
    {
     "name": "stdout",
     "output_type": "stream",
     "text": [
      "<class 'str'>\n",
      "<class 'str'>\n",
      "<class 'str'>\n",
      "<class 'str'>\n",
      "<class 'str'>\n"
     ]
    }
   ],
   "source": [
    "for i in list_:\n",
    "    print(type(i))"
   ]
  },
  {
   "cell_type": "code",
   "execution_count": 25,
   "id": "fb8b07f0-6f11-4f8d-bed3-0772fb69f39d",
   "metadata": {},
   "outputs": [
    {
     "data": {
      "text/plain": [
       "dtype('int64')"
      ]
     },
     "execution_count": 25,
     "metadata": {},
     "output_type": "execute_result"
    }
   ],
   "source": [
    "array_list.dtype"
   ]
  },
  {
   "cell_type": "code",
   "execution_count": 26,
   "id": "711f7a86-b1d9-4061-927d-e0a7a0fa5f0e",
   "metadata": {},
   "outputs": [],
   "source": [
    "import numpy as np\n",
    "num_list = [ [ 1 , 2 , 3 ] , [ 4 , 5 , 6 ] ]\n",
    "num_array = np.array(object = num_list)"
   ]
  },
  {
   "cell_type": "markdown",
   "id": "5e7a1e8b-86cb-45e9-8100-891c067a8434",
   "metadata": {},
   "source": [
    "Q4. Write a code to find the following characteristics of variable, num_array:\n",
    "(i) shape\n",
    "(ii) size"
   ]
  },
  {
   "cell_type": "code",
   "execution_count": 27,
   "id": "55a1b6be-6ea8-4784-bf0b-0ae796dea4c8",
   "metadata": {},
   "outputs": [
    {
     "data": {
      "text/plain": [
       "(2, 3)"
      ]
     },
     "execution_count": 27,
     "metadata": {},
     "output_type": "execute_result"
    }
   ],
   "source": [
    "num_array.shape"
   ]
  },
  {
   "cell_type": "code",
   "execution_count": 28,
   "id": "2485c163-3737-4f1f-8ffc-99546b549aea",
   "metadata": {},
   "outputs": [
    {
     "data": {
      "text/plain": [
       "6"
      ]
     },
     "execution_count": 28,
     "metadata": {},
     "output_type": "execute_result"
    }
   ],
   "source": [
    "num_array.size"
   ]
  },
  {
   "cell_type": "markdown",
   "id": "e1c22f15-4438-4667-9d63-40ca2d390ee5",
   "metadata": {},
   "source": [
    "Q5. Write a code to create numpy array of 3*3 matrix containing zeros only, using a numpy array\n",
    "creation function.\n",
    "[Hint: The size of the array will be 9 and the shape will be (3,3).]"
   ]
  },
  {
   "cell_type": "code",
   "execution_count": 33,
   "id": "eabb7f55-cfdd-4467-aa68-5c261a25f3b1",
   "metadata": {},
   "outputs": [
    {
     "data": {
      "text/plain": [
       "array([[0., 0., 0.],\n",
       "       [0., 0., 0.],\n",
       "       [0., 0., 0.]])"
      ]
     },
     "execution_count": 33,
     "metadata": {},
     "output_type": "execute_result"
    }
   ],
   "source": [
    "np.zeros([3,3])"
   ]
  },
  {
   "cell_type": "markdown",
   "id": "0b9350cd-51eb-47ca-abae-85df74a8d73d",
   "metadata": {},
   "source": [
    "Q6. Create an identity matrix of shape (5,5) using numpy functions?\n",
    "[Hint: An identity matrix is a matrix containing 1 diagonally and other elements will be 0.]"
   ]
  },
  {
   "cell_type": "code",
   "execution_count": 34,
   "id": "d181c0d7-37aa-4d68-b3bd-2cea481cd567",
   "metadata": {},
   "outputs": [
    {
     "data": {
      "text/plain": [
       "matrix([[1., 0., 0., 0., 0.],\n",
       "        [0., 1., 0., 0., 0.],\n",
       "        [0., 0., 1., 0., 0.],\n",
       "        [0., 0., 0., 1., 0.],\n",
       "        [0., 0., 0., 0., 1.]])"
      ]
     },
     "execution_count": 34,
     "metadata": {},
     "output_type": "execute_result"
    }
   ],
   "source": [
    "import numpy.matlib as nm\n",
    "nm.eye(5)"
   ]
  },
  {
   "cell_type": "code",
   "execution_count": null,
   "id": "0a8bafb0-7d56-46b5-aa39-00ed2c72ef74",
   "metadata": {},
   "outputs": [],
   "source": []
  }
 ],
 "metadata": {
  "kernelspec": {
   "display_name": "Python 3 (ipykernel)",
   "language": "python",
   "name": "python3"
  },
  "language_info": {
   "codemirror_mode": {
    "name": "ipython",
    "version": 3
   },
   "file_extension": ".py",
   "mimetype": "text/x-python",
   "name": "python",
   "nbconvert_exporter": "python",
   "pygments_lexer": "ipython3",
   "version": "3.10.8"
  }
 },
 "nbformat": 4,
 "nbformat_minor": 5
}
